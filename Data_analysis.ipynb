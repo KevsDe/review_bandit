{
 "cells": [
  {
   "cell_type": "code",
   "execution_count": 1,
   "metadata": {},
   "outputs": [],
   "source": [
    "import pandas as pd\n",
    "import numpy as np\n",
    "import matplotlib.pyplot as plt\n",
    "import seaborn as sns \n",
    "import src.text_analysis as ta"
   ]
  },
  {
   "cell_type": "code",
   "execution_count": 2,
   "metadata": {},
   "outputs": [],
   "source": [
    "amz_rev = pd.read_json('input/Cell_Phones_and_Accessories_5.json', lines=True)"
   ]
  },
  {
   "cell_type": "code",
   "execution_count": 3,
   "metadata": {},
   "outputs": [
    {
     "data": {
      "text/html": [
       "<div>\n",
       "<style scoped>\n",
       "    .dataframe tbody tr th:only-of-type {\n",
       "        vertical-align: middle;\n",
       "    }\n",
       "\n",
       "    .dataframe tbody tr th {\n",
       "        vertical-align: top;\n",
       "    }\n",
       "\n",
       "    .dataframe thead th {\n",
       "        text-align: right;\n",
       "    }\n",
       "</style>\n",
       "<table border=\"1\" class=\"dataframe\">\n",
       "  <thead>\n",
       "    <tr style=\"text-align: right;\">\n",
       "      <th></th>\n",
       "      <th>overall</th>\n",
       "      <th>verified</th>\n",
       "      <th>reviewTime</th>\n",
       "      <th>reviewerID</th>\n",
       "      <th>asin</th>\n",
       "      <th>style</th>\n",
       "      <th>reviewerName</th>\n",
       "      <th>reviewText</th>\n",
       "      <th>summary</th>\n",
       "      <th>unixReviewTime</th>\n",
       "      <th>vote</th>\n",
       "      <th>image</th>\n",
       "    </tr>\n",
       "  </thead>\n",
       "  <tbody>\n",
       "    <tr>\n",
       "      <th>0</th>\n",
       "      <td>5</td>\n",
       "      <td>True</td>\n",
       "      <td>08 4, 2014</td>\n",
       "      <td>A24E3SXTC62LJI</td>\n",
       "      <td>7508492919</td>\n",
       "      <td>{'Color:': ' Bling'}</td>\n",
       "      <td>Claudia Valdivia</td>\n",
       "      <td>Looks even better in person. Be careful to not...</td>\n",
       "      <td>Can't stop won't stop looking at it</td>\n",
       "      <td>1407110400</td>\n",
       "      <td>NaN</td>\n",
       "      <td>NaN</td>\n",
       "    </tr>\n",
       "    <tr>\n",
       "      <th>1</th>\n",
       "      <td>5</td>\n",
       "      <td>True</td>\n",
       "      <td>02 12, 2014</td>\n",
       "      <td>A269FLZCB4GIPV</td>\n",
       "      <td>7508492919</td>\n",
       "      <td>NaN</td>\n",
       "      <td>sarah ponce</td>\n",
       "      <td>When you don't want to spend a whole lot of ca...</td>\n",
       "      <td>1</td>\n",
       "      <td>1392163200</td>\n",
       "      <td>NaN</td>\n",
       "      <td>NaN</td>\n",
       "    </tr>\n",
       "    <tr>\n",
       "      <th>2</th>\n",
       "      <td>3</td>\n",
       "      <td>True</td>\n",
       "      <td>02 8, 2014</td>\n",
       "      <td>AB6CHQWHZW4TV</td>\n",
       "      <td>7508492919</td>\n",
       "      <td>NaN</td>\n",
       "      <td>Kai</td>\n",
       "      <td>so the case came on time, i love the design. I...</td>\n",
       "      <td>Its okay</td>\n",
       "      <td>1391817600</td>\n",
       "      <td>NaN</td>\n",
       "      <td>NaN</td>\n",
       "    </tr>\n",
       "    <tr>\n",
       "      <th>3</th>\n",
       "      <td>2</td>\n",
       "      <td>True</td>\n",
       "      <td>02 4, 2014</td>\n",
       "      <td>A1M117A53LEI8</td>\n",
       "      <td>7508492919</td>\n",
       "      <td>NaN</td>\n",
       "      <td>Sharon Williams</td>\n",
       "      <td>DON'T CARE FOR IT.  GAVE IT AS A GIFT AND THEY...</td>\n",
       "      <td>CASE</td>\n",
       "      <td>1391472000</td>\n",
       "      <td>NaN</td>\n",
       "      <td>NaN</td>\n",
       "    </tr>\n",
       "    <tr>\n",
       "      <th>4</th>\n",
       "      <td>4</td>\n",
       "      <td>True</td>\n",
       "      <td>02 3, 2014</td>\n",
       "      <td>A272DUT8M88ZS8</td>\n",
       "      <td>7508492919</td>\n",
       "      <td>NaN</td>\n",
       "      <td>Bella Rodriguez</td>\n",
       "      <td>I liked it because it was cute, but the studs ...</td>\n",
       "      <td>Cute!</td>\n",
       "      <td>1391385600</td>\n",
       "      <td>NaN</td>\n",
       "      <td>NaN</td>\n",
       "    </tr>\n",
       "  </tbody>\n",
       "</table>\n",
       "</div>"
      ],
      "text/plain": [
       "   overall  verified   reviewTime      reviewerID        asin  \\\n",
       "0        5      True   08 4, 2014  A24E3SXTC62LJI  7508492919   \n",
       "1        5      True  02 12, 2014  A269FLZCB4GIPV  7508492919   \n",
       "2        3      True   02 8, 2014   AB6CHQWHZW4TV  7508492919   \n",
       "3        2      True   02 4, 2014   A1M117A53LEI8  7508492919   \n",
       "4        4      True   02 3, 2014  A272DUT8M88ZS8  7508492919   \n",
       "\n",
       "                  style      reviewerName  \\\n",
       "0  {'Color:': ' Bling'}  Claudia Valdivia   \n",
       "1                   NaN       sarah ponce   \n",
       "2                   NaN               Kai   \n",
       "3                   NaN   Sharon Williams   \n",
       "4                   NaN   Bella Rodriguez   \n",
       "\n",
       "                                          reviewText  \\\n",
       "0  Looks even better in person. Be careful to not...   \n",
       "1  When you don't want to spend a whole lot of ca...   \n",
       "2  so the case came on time, i love the design. I...   \n",
       "3  DON'T CARE FOR IT.  GAVE IT AS A GIFT AND THEY...   \n",
       "4  I liked it because it was cute, but the studs ...   \n",
       "\n",
       "                               summary  unixReviewTime vote image  \n",
       "0  Can't stop won't stop looking at it      1407110400  NaN   NaN  \n",
       "1                                    1      1392163200  NaN   NaN  \n",
       "2                             Its okay      1391817600  NaN   NaN  \n",
       "3                                 CASE      1391472000  NaN   NaN  \n",
       "4                                Cute!      1391385600  NaN   NaN  "
      ]
     },
     "metadata": {},
     "output_type": "display_data"
    },
    {
     "name": "stdout",
     "output_type": "stream",
     "text": [
      "(1128437, 12)\n"
     ]
    }
   ],
   "source": [
    "display(amz_rev.head())\n",
    "print(amz_rev.shape)"
   ]
  },
  {
   "cell_type": "code",
   "execution_count": 4,
   "metadata": {},
   "outputs": [
    {
     "data": {
      "text/plain": [
       "overall           False\n",
       "verified          False\n",
       "reviewTime        False\n",
       "reviewerID        False\n",
       "asin              False\n",
       "style              True\n",
       "reviewerName       True\n",
       "reviewText         True\n",
       "summary            True\n",
       "unixReviewTime    False\n",
       "vote               True\n",
       "image              True\n",
       "dtype: bool"
      ]
     },
     "execution_count": 4,
     "metadata": {},
     "output_type": "execute_result"
    }
   ],
   "source": [
    "amz_rev.isna().any()"
   ]
  },
  {
   "cell_type": "code",
   "execution_count": 5,
   "metadata": {},
   "outputs": [],
   "source": [
    "columns = ['reviewText','reviewerName','summary']\n",
    "for col in columns:\n",
    "    amz_rev = amz_rev[amz_rev[col].notnull()]"
   ]
  },
  {
   "cell_type": "code",
   "execution_count": 6,
   "metadata": {},
   "outputs": [],
   "source": [
    "columns = ['reviewTime','style']\n",
    "for col in columns:\n",
    "    amz_rev.drop([col], axis=1, inplace=True)"
   ]
  },
  {
   "cell_type": "code",
   "execution_count": 7,
   "metadata": {},
   "outputs": [],
   "source": [
    "amz_rev['unixReviewTime'] = pd.to_datetime(amz_rev['unixReviewTime'], unit='s')\n",
    "amz_rev.rename(columns={\"unixReviewTime\": \"reviewTime\"}, inplace=True)"
   ]
  },
  {
   "cell_type": "code",
   "execution_count": 8,
   "metadata": {},
   "outputs": [],
   "source": [
    "columns = ['vote','image']\n",
    "for col in columns:\n",
    "    amz_rev[col] = amz_rev[col].fillna(0)\n",
    "    amz_rev[col] = amz_rev[col].apply(lambda x : 1 if (x!=0) else 0)"
   ]
  },
  {
   "cell_type": "code",
   "execution_count": 9,
   "metadata": {},
   "outputs": [],
   "source": [
    "amz_rev['verified']=np.where(amz_rev['verified'] == True ,1,0)"
   ]
  },
  {
   "cell_type": "code",
   "execution_count": 10,
   "metadata": {},
   "outputs": [
    {
     "name": "stdout",
     "output_type": "stream",
     "text": [
      "(1127073, 10)\n"
     ]
    }
   ],
   "source": [
    "print(amz_rev.shape)"
   ]
  },
  {
   "cell_type": "code",
   "execution_count": 11,
   "metadata": {},
   "outputs": [
    {
     "name": "stdout",
     "output_type": "stream",
     "text": [
      "overall         False\n",
      "verified        False\n",
      "reviewerID      False\n",
      "asin            False\n",
      "reviewerName    False\n",
      "reviewText      False\n",
      "summary         False\n",
      "reviewTime      False\n",
      "vote            False\n",
      "image           False\n",
      "dtype: bool\n"
     ]
    }
   ],
   "source": [
    "print(amz_rev.isna().any())"
   ]
  },
  {
   "cell_type": "code",
   "execution_count": 12,
   "metadata": {},
   "outputs": [
    {
     "data": {
      "image/png": "[encoded data removed]",
      "text/plain": [
       "<Figure size 432x288 with 1 Axes>"
      ]
     },
     "metadata": {
      "needs_background": "light"
     },
     "output_type": "display_data"
    }
   ],
   "source": [
    "ax = sns.countplot(x=\"overall\",data=amz_rev, palette=\"Set3\")\n",
    "ax.set(xlabel='Star rate', ylabel='Number of reviews')\n",
    "plt.title('Amazon reviews stars rating')\n",
    "plt.show()"
   ]
  },
  {
   "cell_type": "code",
   "execution_count": 13,
   "metadata": {},
   "outputs": [
    {
     "data": {
      "image/png": "[encoded data removed]",
      "text/plain": [
       "<Figure size 432x288 with 1 Axes>"
      ]
     },
     "metadata": {
      "needs_background": "light"
     },
     "output_type": "display_data"
    },
    {
     "name": "stdout",
     "output_type": "stream",
     "text": [
      "Max reviews per user: 331\n",
      "Mean of reviews per user: 7.17\n"
     ]
    }
   ],
   "source": [
    "rws_per_user = amz_rev.groupby(['overall','reviewerID']).size().groupby(level=1).sum()\n",
    "ax = sns.distplot(rws_per_user)\n",
    "ax.set(xlabel='Reviews per user', ylabel='Frequency Density')\n",
    "plt.title('Number of published reviews per user')\n",
    "plt.show()\n",
    "print(f'Max reviews per user: {rws_per_user.max()}')\n",
    "print(f'Mean of reviews per user: {rws_per_user.mean():.2f}')"
   ]
  },
  {
   "cell_type": "code",
   "execution_count": 14,
   "metadata": {},
   "outputs": [
    {
     "data": {
      "image/png": "[encoded data removed]",
      "text/plain": [
       "<Figure size 432x288 with 1 Axes>"
      ]
     },
     "metadata": {
      "needs_background": "light"
     },
     "output_type": "display_data"
    },
    {
     "name": "stdout",
     "output_type": "stream",
     "text": [
      "Max reviews per product: 1680\n",
      "Mean of reviews per product: 23.39\n"
     ]
    }
   ],
   "source": [
    "rws_per_asin = amz_rev.groupby(['overall','asin']).size().groupby(level=1).sum()\n",
    "ax = sns.distplot(rws_per_asin)\n",
    "ax.set(xlabel='Reviews per products', ylabel='Frequency Density')\n",
    "plt.title('Number of published reviews per product')\n",
    "plt.show()\n",
    "print(f'Max reviews per product: {rws_per_asin.max()}')\n",
    "print(f'Mean of reviews per product: {rws_per_asin.mean():.2f}')"
   ]
  },
  {
   "cell_type": "code",
   "execution_count": 15,
   "metadata": {},
   "outputs": [
    {
     "data": {
      "text/html": [
       "<div>\n",
       "<style scoped>\n",
       "    .dataframe tbody tr th:only-of-type {\n",
       "        vertical-align: middle;\n",
       "    }\n",
       "\n",
       "    .dataframe tbody tr th {\n",
       "        vertical-align: top;\n",
       "    }\n",
       "\n",
       "    .dataframe thead th {\n",
       "        text-align: right;\n",
       "    }\n",
       "</style>\n",
       "<table border=\"1\" class=\"dataframe\">\n",
       "  <thead>\n",
       "    <tr style=\"text-align: right;\">\n",
       "      <th></th>\n",
       "      <th>reviewerID</th>\n",
       "      <th>reviewerName</th>\n",
       "      <th>reviewTime</th>\n",
       "    </tr>\n",
       "  </thead>\n",
       "  <tbody>\n",
       "    <tr>\n",
       "      <th>0</th>\n",
       "      <td>A0009478CBXKUCALUC7U</td>\n",
       "      <td>Kyle Crawford</td>\n",
       "      <td>3</td>\n",
       "    </tr>\n",
       "    <tr>\n",
       "      <th>1</th>\n",
       "      <td>A0009478CBXKUCALUC7U</td>\n",
       "      <td>Kyle Crawford</td>\n",
       "      <td>2</td>\n",
       "    </tr>\n",
       "    <tr>\n",
       "      <th>2</th>\n",
       "      <td>A0009478CBXKUCALUC7U</td>\n",
       "      <td>Kyle Crawford</td>\n",
       "      <td>1</td>\n",
       "    </tr>\n",
       "    <tr>\n",
       "      <th>3</th>\n",
       "      <td>A0024936S1WI02OHH9DP</td>\n",
       "      <td>JoAnna Bobo</td>\n",
       "      <td>4</td>\n",
       "    </tr>\n",
       "    <tr>\n",
       "      <th>4</th>\n",
       "      <td>A0024936S1WI02OHH9DP</td>\n",
       "      <td>JoAnna Bobo</td>\n",
       "      <td>1</td>\n",
       "    </tr>\n",
       "  </tbody>\n",
       "</table>\n",
       "</div>"
      ],
      "text/plain": [
       "             reviewerID   reviewerName  reviewTime\n",
       "0  A0009478CBXKUCALUC7U  Kyle Crawford           3\n",
       "1  A0009478CBXKUCALUC7U  Kyle Crawford           2\n",
       "2  A0009478CBXKUCALUC7U  Kyle Crawford           1\n",
       "3  A0024936S1WI02OHH9DP    JoAnna Bobo           4\n",
       "4  A0024936S1WI02OHH9DP    JoAnna Bobo           1"
      ]
     },
     "metadata": {},
     "output_type": "display_data"
    }
   ],
   "source": [
    "display(amz_rev.groupby(['reviewerID','reviewerName','reviewTime'],as_index=False).agg({'reviewTime': 'count'}).head())\n"
   ]
  },
  {
   "cell_type": "code",
   "execution_count": 16,
   "metadata": {},
   "outputs": [],
   "source": [
    "#Pandas Duplicated\n",
    "amz_rev['Multiple_r_day'] = amz_rev.duplicated(subset=['reviewTime'],keep=False)\n",
    "amz_rev['Same_r_text'] = amz_rev.duplicated(subset=['reviewText'],keep=False)\n",
    "amz_rev['Multiple_r_day']=np.where(amz_rev['Multiple_r_day'] == True ,1,0)\n",
    "amz_rev['Same_r_text']=np.where(amz_rev['Same_r_text'] == True ,1,0)\n",
    "amz_rev['spam_reviewer'] = np.where((amz_rev['Multiple_r_day']==True)&(amz_rev['Same_r_text']== True) ,1,0)"
   ]
  },
  {
   "cell_type": "code",
   "execution_count": 17,
   "metadata": {},
   "outputs": [
    {
     "data": {
      "text/html": [
       "<div>\n",
       "<style scoped>\n",
       "    .dataframe tbody tr th:only-of-type {\n",
       "        vertical-align: middle;\n",
       "    }\n",
       "\n",
       "    .dataframe tbody tr th {\n",
       "        vertical-align: top;\n",
       "    }\n",
       "\n",
       "    .dataframe thead th {\n",
       "        text-align: right;\n",
       "    }\n",
       "</style>\n",
       "<table border=\"1\" class=\"dataframe\">\n",
       "  <thead>\n",
       "    <tr style=\"text-align: right;\">\n",
       "      <th></th>\n",
       "      <th>overall</th>\n",
       "      <th>verified</th>\n",
       "      <th>reviewerID</th>\n",
       "      <th>asin</th>\n",
       "      <th>reviewerName</th>\n",
       "      <th>reviewText</th>\n",
       "      <th>summary</th>\n",
       "      <th>reviewTime</th>\n",
       "      <th>vote</th>\n",
       "      <th>image</th>\n",
       "      <th>Multiple_r_day</th>\n",
       "      <th>Same_r_text</th>\n",
       "      <th>spam_reviewer</th>\n",
       "    </tr>\n",
       "  </thead>\n",
       "  <tbody>\n",
       "    <tr>\n",
       "      <th>1</th>\n",
       "      <td>5</td>\n",
       "      <td>1</td>\n",
       "      <td>A269FLZCB4GIPV</td>\n",
       "      <td>7508492919</td>\n",
       "      <td>sarah ponce</td>\n",
       "      <td>When you don't want to spend a whole lot of ca...</td>\n",
       "      <td>1</td>\n",
       "      <td>2014-02-12</td>\n",
       "      <td>0</td>\n",
       "      <td>0</td>\n",
       "      <td>1</td>\n",
       "      <td>1</td>\n",
       "      <td>1</td>\n",
       "    </tr>\n",
       "    <tr>\n",
       "      <th>77078</th>\n",
       "      <td>5</td>\n",
       "      <td>1</td>\n",
       "      <td>A269FLZCB4GIPV</td>\n",
       "      <td>B005O19SOO</td>\n",
       "      <td>sarah ponce</td>\n",
       "      <td>When you don't want to spend a whole lot of ca...</td>\n",
       "      <td>Deal!</td>\n",
       "      <td>2014-02-12</td>\n",
       "      <td>0</td>\n",
       "      <td>0</td>\n",
       "      <td>1</td>\n",
       "      <td>1</td>\n",
       "      <td>1</td>\n",
       "    </tr>\n",
       "    <tr>\n",
       "      <th>108893</th>\n",
       "      <td>5</td>\n",
       "      <td>1</td>\n",
       "      <td>A269FLZCB4GIPV</td>\n",
       "      <td>B0077L0KTG</td>\n",
       "      <td>sarah ponce</td>\n",
       "      <td>When you don't want to spend a whole lot of ca...</td>\n",
       "      <td>great</td>\n",
       "      <td>2014-02-12</td>\n",
       "      <td>0</td>\n",
       "      <td>0</td>\n",
       "      <td>1</td>\n",
       "      <td>1</td>\n",
       "      <td>1</td>\n",
       "    </tr>\n",
       "    <tr>\n",
       "      <th>135695</th>\n",
       "      <td>5</td>\n",
       "      <td>1</td>\n",
       "      <td>A269FLZCB4GIPV</td>\n",
       "      <td>B0090G1DJ2</td>\n",
       "      <td>sarah ponce</td>\n",
       "      <td>When you don't want to spend a whole lot of ca...</td>\n",
       "      <td>ok</td>\n",
       "      <td>2014-02-12</td>\n",
       "      <td>0</td>\n",
       "      <td>0</td>\n",
       "      <td>1</td>\n",
       "      <td>1</td>\n",
       "      <td>1</td>\n",
       "    </tr>\n",
       "    <tr>\n",
       "      <th>160519</th>\n",
       "      <td>5</td>\n",
       "      <td>1</td>\n",
       "      <td>A269FLZCB4GIPV</td>\n",
       "      <td>B009IFU5P8</td>\n",
       "      <td>sarah ponce</td>\n",
       "      <td>When you don't want to spend a whole lot of ca...</td>\n",
       "      <td>good</td>\n",
       "      <td>2014-02-12</td>\n",
       "      <td>0</td>\n",
       "      <td>0</td>\n",
       "      <td>1</td>\n",
       "      <td>1</td>\n",
       "      <td>1</td>\n",
       "    </tr>\n",
       "  </tbody>\n",
       "</table>\n",
       "</div>"
      ],
      "text/plain": [
       "        overall  verified      reviewerID        asin reviewerName  \\\n",
       "1             5         1  A269FLZCB4GIPV  7508492919  sarah ponce   \n",
       "77078         5         1  A269FLZCB4GIPV  B005O19SOO  sarah ponce   \n",
       "108893        5         1  A269FLZCB4GIPV  B0077L0KTG  sarah ponce   \n",
       "135695        5         1  A269FLZCB4GIPV  B0090G1DJ2  sarah ponce   \n",
       "160519        5         1  A269FLZCB4GIPV  B009IFU5P8  sarah ponce   \n",
       "\n",
       "                                               reviewText summary reviewTime  \\\n",
       "1       When you don't want to spend a whole lot of ca...       1 2014-02-12   \n",
       "77078   When you don't want to spend a whole lot of ca...   Deal! 2014-02-12   \n",
       "108893  When you don't want to spend a whole lot of ca...   great 2014-02-12   \n",
       "135695  When you don't want to spend a whole lot of ca...      ok 2014-02-12   \n",
       "160519  When you don't want to spend a whole lot of ca...    good 2014-02-12   \n",
       "\n",
       "        vote  image  Multiple_r_day  Same_r_text  spam_reviewer  \n",
       "1          0      0               1            1              1  \n",
       "77078      0      0               1            1              1  \n",
       "108893     0      0               1            1              1  \n",
       "135695     0      0               1            1              1  \n",
       "160519     0      0               1            1              1  "
      ]
     },
     "execution_count": 17,
     "metadata": {},
     "output_type": "execute_result"
    }
   ],
   "source": [
    "amz_rev[amz_rev.reviewerID=='A269FLZCB4GIPV'].head()"
   ]
  },
  {
   "cell_type": "code",
   "execution_count": 18,
   "metadata": {},
   "outputs": [
    {
     "data": {
      "image/png": "[encoded data removed]",
      "text/plain": [
       "<Figure size 432x288 with 1 Axes>"
      ]
     },
     "metadata": {
      "needs_background": "light"
     },
     "output_type": "display_data"
    },
    {
     "name": "stdout",
     "output_type": "stream",
     "text": [
      "The verified reviews ratio is: 87.49%\n"
     ]
    }
   ],
   "source": [
    "ax = sns.countplot(x=\"verified\",data=amz_rev, palette=\"Set3\")\n",
    "ax.set(xlabel='Verfied reviews', ylabel='Number of reviews')\n",
    "plt.title('Verified users')\n",
    "plt.show()\n",
    "print(f'The verified reviews ratio is: {ta.ratio(amz_rev,\"verified\",1):.2f}%')"
   ]
  },
  {
   "cell_type": "code",
   "execution_count": 19,
   "metadata": {},
   "outputs": [
    {
     "data": {
      "image/png": "[encoded data removed]",
      "text/plain": [
       "<Figure size 432x288 with 1 Axes>"
      ]
     },
     "metadata": {
      "needs_background": "light"
     },
     "output_type": "display_data"
    },
    {
     "name": "stdout",
     "output_type": "stream",
     "text": [
      "The spam reviews ratio is: 20.84%\n"
     ]
    }
   ],
   "source": [
    "ax = sns.countplot(x='spam_reviewer',data=amz_rev, palette=\"Set3\")\n",
    "ax.set(xlabel='Multiple reviews per day and duplicated review text', ylabel='Number of reviews')\n",
    "plt.title('Spam Reviewers')\n",
    "plt.show()\n",
    "print(f'The spam reviews ratio is: {ta.ratio(amz_rev,\"spam_reviewer\",1):.2f}%')"
   ]
  },
  {
   "cell_type": "code",
   "execution_count": 20,
   "metadata": {},
   "outputs": [
    {
     "data": {
      "text/plain": [
       "0    892157\n",
       "1    234916\n",
       "Name: spam_reviewer, dtype: int64"
      ]
     },
     "execution_count": 20,
     "metadata": {},
     "output_type": "execute_result"
    }
   ],
   "source": [
    "amz_rev['spam_reviewer'].value_counts()"
   ]
  },
  {
   "cell_type": "code",
   "execution_count": 21,
   "metadata": {},
   "outputs": [
    {
     "name": "stdout",
     "output_type": "stream",
     "text": [
      "Spam_reviewer for 1 stars\n",
      "Possible real reviews73903\n",
      "Possible spam reviews7553\n",
      "Spam rate 5.11%\n",
      "\n",
      "Spam_reviewer for 2 stars\n",
      "Possible real reviews52502\n",
      "Possible spam reviews4648\n",
      "Spam rate 4.43%\n",
      "\n",
      "Spam_reviewer for 3 stars\n",
      "Possible real reviews85949\n",
      "Possible spam reviews12229\n",
      "Spam rate 7.11%\n",
      "\n",
      "Spam_reviewer for 4 stars\n",
      "Possible real reviews153047\n",
      "Possible spam reviews31214\n",
      "Spam rate 10.20%\n",
      "\n",
      "Spam_reviewer for 5 stars\n",
      "Possible real reviews526756\n",
      "Possible spam reviews179272\n",
      "Spam rate 17.02%\n",
      "\n"
     ]
    }
   ],
   "source": [
    "stars = [1,2,3,4,5]\n",
    "for idx in stars:\n",
    "    print(f'Spam_reviewer for {idx} stars')\n",
    "    print(f\"Possible real reviews{amz_rev[amz_rev.overall==idx]['spam_reviewer'].value_counts()[0]}\")\n",
    "    print(f\"Possible spam reviews{amz_rev[amz_rev.overall==idx]['spam_reviewer'].value_counts()[1]}\")\n",
    "    print(f\"Spam rate {(amz_rev[amz_rev.overall==idx]['spam_reviewer'].value_counts()[1])/((amz_rev[amz_rev.overall==idx]['spam_reviewer'].value_counts()[0])+(amz_rev[amz_rev.overall==idx]['spam_reviewer'].value_counts()[0]))*100:.2f}%\"\"\\n\")"
   ]
  },
  {
   "cell_type": "markdown",
   "metadata": {},
   "source": [
    "#### On Amazon 4 and 5 stars are considering positive feedback and 1, 2 and 3 are negative, but usually, users associate 3 stars reviews to a neutral experience and often are the most truthful reviews."
   ]
  },
  {
   "cell_type": "code",
   "execution_count": 22,
   "metadata": {},
   "outputs": [],
   "source": [
    "amz_rev.drop(amz_rev.query('overall == 3').index, inplace=True)"
   ]
  },
  {
   "cell_type": "markdown",
   "metadata": {},
   "source": [
    "#### In order to balance the dataset, we are going to get rid of possible real reviews"
   ]
  },
  {
   "cell_type": "code",
   "execution_count": 23,
   "metadata": {},
   "outputs": [
    {
     "data": {
      "text/plain": [
       "0    241862\n",
       "1    222687\n",
       "Name: spam_reviewer, dtype: int64"
      ]
     },
     "execution_count": 23,
     "metadata": {},
     "output_type": "execute_result"
    }
   ],
   "source": [
    "amz_rev.drop(amz_rev.query('spam_reviewer == 0').sample(frac=.70).index, inplace=True)\n",
    "amz_rev['spam_reviewer'].value_counts()"
   ]
  },
  {
   "cell_type": "code",
   "execution_count": 24,
   "metadata": {},
   "outputs": [
    {
     "name": "stdout",
     "output_type": "stream",
     "text": [
      "Spam_reviewer for 1 stars\n",
      "Possible real reviews21984\n",
      "Possible spam reviews7553\n",
      "Spam rate 17.18%\n",
      "\n",
      "Spam_reviewer for 2 stars\n",
      "Possible real reviews15754\n",
      "Possible spam reviews4648\n",
      "Spam rate 14.75%\n",
      "\n",
      "Spam_reviewer for 4 stars\n",
      "Possible real reviews45844\n",
      "Possible spam reviews31214\n",
      "Spam rate 34.04%\n",
      "\n",
      "Spam_reviewer for 5 stars\n",
      "Possible real reviews158280\n",
      "Possible spam reviews179272\n",
      "Spam rate 56.63%\n",
      "\n"
     ]
    }
   ],
   "source": [
    "stars = [1,2,4,5]\n",
    "for idx in stars:\n",
    "    print(f'Spam_reviewer for {idx} stars')\n",
    "    print(f\"Possible real reviews{amz_rev[amz_rev.overall==idx]['spam_reviewer'].value_counts()[0]}\")\n",
    "    print(f\"Possible spam reviews{amz_rev[amz_rev.overall==idx]['spam_reviewer'].value_counts()[1]}\")\n",
    "    print(f\"Spam rate {(amz_rev[amz_rev.overall==idx]['spam_reviewer'].value_counts()[1])/((amz_rev[amz_rev.overall==idx]['spam_reviewer'].value_counts()[0])+(amz_rev[amz_rev.overall==idx]['spam_reviewer'].value_counts()[0]))*100:.2f}%\"\"\\n\")"
   ]
  },
  {
   "cell_type": "code",
   "execution_count": 25,
   "metadata": {},
   "outputs": [
    {
     "data": {
      "text/plain": [
       "overall           False\n",
       "verified          False\n",
       "reviewerID        False\n",
       "asin              False\n",
       "reviewerName      False\n",
       "reviewText        False\n",
       "summary           False\n",
       "reviewTime        False\n",
       "vote              False\n",
       "image             False\n",
       "Multiple_r_day    False\n",
       "Same_r_text       False\n",
       "spam_reviewer     False\n",
       "dtype: bool"
      ]
     },
     "execution_count": 25,
     "metadata": {},
     "output_type": "execute_result"
    }
   ],
   "source": [
    "amz_rev.isna().any()"
   ]
  },
  {
   "cell_type": "markdown",
   "metadata": {},
   "source": [
    "#### There are too much data to process, so I´m going to generate eight batches of eight thousand samples each.\n"
   ]
  },
  {
   "cell_type": "code",
   "execution_count": 26,
   "metadata": {},
   "outputs": [
    {
     "data": {
      "text/plain": [
       "0    33290\n",
       "1    30710\n",
       "Name: spam_reviewer, dtype: int64"
      ]
     },
     "execution_count": 26,
     "metadata": {},
     "output_type": "execute_result"
    }
   ],
   "source": [
    "amz_rev = amz_rev.sample(n=64000)\n",
    "amz_rev.reset_index(inplace=True, drop=True)\n",
    "amz_rev['spam_reviewer'].value_counts()"
   ]
  },
  {
   "cell_type": "markdown",
   "metadata": {},
   "source": [
    "#### Polarity and subjectivity analysis"
   ]
  },
  {
   "cell_type": "code",
   "execution_count": 27,
   "metadata": {},
   "outputs": [],
   "source": [
    "polarity,subjectivity = ta.sentimental(amz_rev.reviewText)\n",
    "amz_rev['polarity'] = polarity\n",
    "amz_rev['subjectivity'] = subjectivity"
   ]
  },
  {
   "cell_type": "markdown",
   "metadata": {},
   "source": [
    "#### Readability analysis and words counting."
   ]
  },
  {
   "cell_type": "code",
   "execution_count": 28,
   "metadata": {},
   "outputs": [],
   "source": [
    "lexicon_count, flesch_reading = ta.textscore(amz_rev.reviewText)\n",
    "amz_rev['num_words'] = lexicon_count\n",
    "amz_rev['flesch_score'] = flesch_reading"
   ]
  },
  {
   "cell_type": "markdown",
   "metadata": {},
   "source": [
    "#### Verbs, nouns and prp ratios."
   ]
  },
  {
   "cell_type": "code",
   "execution_count": 29,
   "metadata": {},
   "outputs": [],
   "source": [
    "tags = ['verbs','nouns','prp']\n",
    "for tag in tags:\n",
    "    amz_rev[f'{tag}_ratio'] = (ta.tags_collector (tag, amz_rev['reviewText'])/amz_rev.num_words).round(decimals=2)"
   ]
  },
  {
   "cell_type": "markdown",
   "metadata": {},
   "source": [
    "#### Grammar review."
   ]
  },
  {
   "cell_type": "code",
   "execution_count": 30,
   "metadata": {},
   "outputs": [],
   "source": [
    "gram_check = ta.grammar(amz_rev['reviewText'])\n",
    "amz_rev['grammar'] = gram_check"
   ]
  },
  {
   "cell_type": "code",
   "execution_count": 31,
   "metadata": {},
   "outputs": [
    {
     "name": "stdout",
     "output_type": "stream",
     "text": [
      "(64000, 20)\n"
     ]
    }
   ],
   "source": [
    "print(amz_rev.shape)"
   ]
  },
  {
   "cell_type": "code",
   "execution_count": 32,
   "metadata": {},
   "outputs": [
    {
     "data": {
      "text/plain": [
       "overall           False\n",
       "verified          False\n",
       "reviewerID        False\n",
       "asin              False\n",
       "reviewerName      False\n",
       "reviewText        False\n",
       "summary           False\n",
       "reviewTime        False\n",
       "vote              False\n",
       "image             False\n",
       "Multiple_r_day    False\n",
       "Same_r_text       False\n",
       "spam_reviewer     False\n",
       "polarity          False\n",
       "subjectivity      False\n",
       "num_words         False\n",
       "flesch_score      False\n",
       "verbs_ratio        True\n",
       "nouns_ratio        True\n",
       "prp_ratio          True\n",
       "dtype: bool"
      ]
     },
     "execution_count": 32,
     "metadata": {},
     "output_type": "execute_result"
    }
   ],
   "source": [
    "amz_rev.isna().any()"
   ]
  },
  {
   "cell_type": "code",
   "execution_count": 33,
   "metadata": {},
   "outputs": [],
   "source": [
    "amz_rev.dropna(inplace=True)"
   ]
  },
  {
   "cell_type": "code",
   "execution_count": 34,
   "metadata": {},
   "outputs": [
    {
     "data": {
      "text/plain": [
       "overall           False\n",
       "verified          False\n",
       "reviewerID        False\n",
       "asin              False\n",
       "reviewerName      False\n",
       "reviewText        False\n",
       "summary           False\n",
       "reviewTime        False\n",
       "vote              False\n",
       "image             False\n",
       "Multiple_r_day    False\n",
       "Same_r_text       False\n",
       "spam_reviewer     False\n",
       "polarity          False\n",
       "subjectivity      False\n",
       "num_words         False\n",
       "flesch_score      False\n",
       "verbs_ratio       False\n",
       "nouns_ratio       False\n",
       "prp_ratio         False\n",
       "dtype: bool"
      ]
     },
     "execution_count": 34,
     "metadata": {},
     "output_type": "execute_result"
    }
   ],
   "source": [
    "amz_rev.isna().any()\n"
   ]
  },
  {
   "cell_type": "code",
   "execution_count": 35,
   "metadata": {},
   "outputs": [
    {
     "name": "stdout",
     "output_type": "stream",
     "text": [
      "(63949, 20)\n"
     ]
    }
   ],
   "source": [
    "print(amz_rev.shape)"
   ]
  },
  {
   "cell_type": "markdown",
   "metadata": {},
   "source": [
    "#### Double-checking the batches to make sure that are balanced."
   ]
  },
  {
   "cell_type": "code",
   "execution_count": 36,
   "metadata": {},
   "outputs": [],
   "source": [
    "batch1 = amz_rev[:8000]"
   ]
  },
  {
   "cell_type": "code",
   "execution_count": 37,
   "metadata": {},
   "outputs": [
    {
     "data": {
      "text/plain": [
       "0    4198\n",
       "1    3802\n",
       "Name: spam_reviewer, dtype: int64"
      ]
     },
     "execution_count": 37,
     "metadata": {},
     "output_type": "execute_result"
    }
   ],
   "source": [
    "batch1['spam_reviewer'].value_counts()"
   ]
  },
  {
   "cell_type": "code",
   "execution_count": 38,
   "metadata": {},
   "outputs": [],
   "source": [
    "batch2 = amz_rev[8000:16000]\n",
    "batch3 = amz_rev[16000:24000]\n",
    "batch4 = amz_rev[24000:32000]\n",
    "batch5 = amz_rev[32000:40000]\n",
    "batch6 = amz_rev[40000:48000]\n",
    "batch7 = amz_rev[48000:56000]\n",
    "batch8 = amz_rev[56000:]"
   ]
  },
  {
   "cell_type": "code",
   "execution_count": 39,
   "metadata": {},
   "outputs": [
    {
     "data": {
      "text/plain": [
       "0    4061\n",
       "1    3939\n",
       "Name: spam_reviewer, dtype: int64"
      ]
     },
     "execution_count": 39,
     "metadata": {},
     "output_type": "execute_result"
    }
   ],
   "source": [
    "batch4['spam_reviewer'].value_counts()"
   ]
  },
  {
   "cell_type": "code",
   "execution_count": 40,
   "metadata": {},
   "outputs": [],
   "source": [
    "amz_rev.to_csv('output/amz_final.csv',index=False)"
   ]
  }
 ],
 "metadata": {
  "kernelspec": {
   "display_name": "Python 3",
   "language": "python",
   "name": "python3"
  },
  "language_info": {
   "codemirror_mode": {
    "name": "ipython",
    "version": 3
   },
   "file_extension": ".py",
   "mimetype": "text/x-python",
   "name": "python",
   "nbconvert_exporter": "python",
   "pygments_lexer": "ipython3",
   "version": "3.8.5"
  }
 },
 "nbformat": 4,
 "nbformat_minor": 4
}
