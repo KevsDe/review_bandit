{
 "cells": [
  {
   "cell_type": "code",
   "execution_count": 1,
   "metadata": {},
   "outputs": [],
   "source": [
    "import pandas as pd\n",
    "import src.text_analysis as ta\n",
    "from sklearn.feature_extraction.text import TfidfVectorizer\n",
    "from sklearn.model_selection import train_test_split\n",
    "from sklearn.metrics import accuracy_score, precision_score, f1_score, recall_score, confusion_matrix\n",
    "from sklearn.model_selection import cross_val_score\n",
    "from sklearn.linear_model import PassiveAggressiveClassifier\n",
    "from sklearn.ensemble import GradientBoostingClassifier, AdaBoostClassifier, RandomForestClassifier\n",
    "from sklearn.svm import SVC"
   ]
  },
  {
   "cell_type": "code",
   "execution_count": 2,
   "metadata": {},
   "outputs": [],
   "source": [
    "amz_rev = pd.read_csv('output/amz_rev_final.csv')\n",
    "rename = {0:'Real',1:'Spam'}\n",
    "amz_rev['low_quality'] = amz_rev['low_quality'].replace(rename)"
   ]
  },
  {
   "cell_type": "code",
   "execution_count": 3,
   "metadata": {},
   "outputs": [
    {
     "data": {
      "text/html": [
       "<div>\n",
       "<style scoped>\n",
       "    .dataframe tbody tr th:only-of-type {\n",
       "        vertical-align: middle;\n",
       "    }\n",
       "\n",
       "    .dataframe tbody tr th {\n",
       "        vertical-align: top;\n",
       "    }\n",
       "\n",
       "    .dataframe thead th {\n",
       "        text-align: right;\n",
       "    }\n",
       "</style>\n",
       "<table border=\"1\" class=\"dataframe\">\n",
       "  <thead>\n",
       "    <tr style=\"text-align: right;\">\n",
       "      <th></th>\n",
       "      <th>Unnamed: 0</th>\n",
       "      <th>reviewText</th>\n",
       "      <th>polarity</th>\n",
       "      <th>subjectivity</th>\n",
       "      <th>num_words</th>\n",
       "      <th>flesch_score</th>\n",
       "      <th>verbs_ratio</th>\n",
       "      <th>nouns_ratio</th>\n",
       "      <th>prp_ratio</th>\n",
       "      <th>low_quality</th>\n",
       "      <th>grammar</th>\n",
       "    </tr>\n",
       "  </thead>\n",
       "  <tbody>\n",
       "    <tr>\n",
       "      <th>0</th>\n",
       "      <td>0</td>\n",
       "      <td>Excellent</td>\n",
       "      <td>1.00</td>\n",
       "      <td>1.00</td>\n",
       "      <td>1</td>\n",
       "      <td>-47.99</td>\n",
       "      <td>0.00</td>\n",
       "      <td>1.00</td>\n",
       "      <td>0.00</td>\n",
       "      <td>Spam</td>\n",
       "      <td>0</td>\n",
       "    </tr>\n",
       "    <tr>\n",
       "      <th>1</th>\n",
       "      <td>1</td>\n",
       "      <td>Great</td>\n",
       "      <td>0.80</td>\n",
       "      <td>0.75</td>\n",
       "      <td>1</td>\n",
       "      <td>121.22</td>\n",
       "      <td>0.00</td>\n",
       "      <td>1.00</td>\n",
       "      <td>0.00</td>\n",
       "      <td>Spam</td>\n",
       "      <td>0</td>\n",
       "    </tr>\n",
       "    <tr>\n",
       "      <th>2</th>\n",
       "      <td>2</td>\n",
       "      <td>exactly what i wanted</td>\n",
       "      <td>0.25</td>\n",
       "      <td>0.25</td>\n",
       "      <td>4</td>\n",
       "      <td>50.50</td>\n",
       "      <td>0.25</td>\n",
       "      <td>0.25</td>\n",
       "      <td>0.00</td>\n",
       "      <td>Spam</td>\n",
       "      <td>2</td>\n",
       "    </tr>\n",
       "    <tr>\n",
       "      <th>3</th>\n",
       "      <td>3</td>\n",
       "      <td>very good</td>\n",
       "      <td>0.91</td>\n",
       "      <td>0.78</td>\n",
       "      <td>2</td>\n",
       "      <td>120.21</td>\n",
       "      <td>0.00</td>\n",
       "      <td>0.00</td>\n",
       "      <td>0.00</td>\n",
       "      <td>Spam</td>\n",
       "      <td>1</td>\n",
       "    </tr>\n",
       "    <tr>\n",
       "      <th>4</th>\n",
       "      <td>4</td>\n",
       "      <td>thank you very much</td>\n",
       "      <td>0.26</td>\n",
       "      <td>0.26</td>\n",
       "      <td>4</td>\n",
       "      <td>118.18</td>\n",
       "      <td>0.00</td>\n",
       "      <td>0.25</td>\n",
       "      <td>0.25</td>\n",
       "      <td>Spam</td>\n",
       "      <td>1</td>\n",
       "    </tr>\n",
       "  </tbody>\n",
       "</table>\n",
       "</div>"
      ],
      "text/plain": [
       "   Unnamed: 0             reviewText  polarity  subjectivity  num_words  \\\n",
       "0           0              Excellent      1.00          1.00          1   \n",
       "1           1                  Great      0.80          0.75          1   \n",
       "2           2  exactly what i wanted      0.25          0.25          4   \n",
       "3           3              very good      0.91          0.78          2   \n",
       "4           4    thank you very much      0.26          0.26          4   \n",
       "\n",
       "   flesch_score  verbs_ratio  nouns_ratio  prp_ratio low_quality  grammar  \n",
       "0        -47.99         0.00         1.00       0.00        Spam        0  \n",
       "1        121.22         0.00         1.00       0.00        Spam        0  \n",
       "2         50.50         0.25         0.25       0.00        Spam        2  \n",
       "3        120.21         0.00         0.00       0.00        Spam        1  \n",
       "4        118.18         0.00         0.25       0.25        Spam        1  "
      ]
     },
     "execution_count": 3,
     "metadata": {},
     "output_type": "execute_result"
    }
   ],
   "source": [
    "amz_rev.head()"
   ]
  },
  {
   "cell_type": "markdown",
   "metadata": {},
   "source": [
    "#### Checking if it is a balanced dataset"
   ]
  },
  {
   "cell_type": "code",
   "execution_count": 4,
   "metadata": {},
   "outputs": [
    {
     "data": {
      "text/plain": [
       "Real    24590\n",
       "Spam    20358\n",
       "Name: low_quality, dtype: int64"
      ]
     },
     "execution_count": 4,
     "metadata": {},
     "output_type": "execute_result"
    }
   ],
   "source": [
    "amz_rev.low_quality.value_counts()"
   ]
  },
  {
   "cell_type": "code",
   "execution_count": 5,
   "metadata": {},
   "outputs": [],
   "source": [
    "tfidf=TfidfVectorizer(min_df=.02, max_df =0.08, tokenizer=ta.spacy_tokenizer)"
   ]
  },
  {
   "cell_type": "code",
   "execution_count": 6,
   "metadata": {},
   "outputs": [],
   "source": [
    "X_train, X_test, y_train, y_test = train_test_split(amz_rev['reviewText'], amz_rev['low_quality'], test_size=0.25, random_state=28, shuffle=True)"
   ]
  },
  {
   "cell_type": "code",
   "execution_count": 7,
   "metadata": {},
   "outputs": [],
   "source": [
    "train = tfidf.fit_transform(X_train.values.astype('U'))\n",
    "test = tfidf.transform(X_test.values.astype('U'))"
   ]
  },
  {
   "cell_type": "markdown",
   "metadata": {},
   "source": [
    "#### Training several models at once"
   ]
  },
  {
   "cell_type": "code",
   "execution_count": 8,
   "metadata": {},
   "outputs": [],
   "source": [
    "models = {\n",
    "    \"PassiveAggressiveClassifier\" : PassiveAggressiveClassifier(),\n",
    "    \"GradientBoostingClassifier\": GradientBoostingClassifier(),\n",
    "    \"AdaBoostClassifier\" : AdaBoostClassifier(),\n",
    "    \"RandomForestClassifier\" : RandomForestClassifier(),\n",
    "    \"SVC\" : SVC()\n",
    "}"
   ]
  },
  {
   "cell_type": "code",
   "execution_count": 9,
   "metadata": {},
   "outputs": [
    {
     "name": "stdout",
     "output_type": "stream",
     "text": [
      "Entrenando PassiveAggressiveClassifier\n",
      "Entrenando GradientBoostingClassifier\n",
      "Entrenando AdaBoostClassifier\n",
      "Entrenando RandomForestClassifier\n",
      "Entrenando SVC\n",
      "Completado el entrenamiento\n"
     ]
    }
   ],
   "source": [
    "for name, model in models.items():\n",
    "    print(f\"Entrenando {name}\")\n",
    "    model.fit(train, y_train)\n",
    "print(\"Completado el entrenamiento\")"
   ]
  },
  {
   "cell_type": "markdown",
   "metadata": {},
   "source": [
    "#### Testing"
   ]
  },
  {
   "cell_type": "code",
   "execution_count": 10,
   "metadata": {},
   "outputs": [
    {
     "name": "stdout",
     "output_type": "stream",
     "text": [
      "-------PassiveAggressiveClassifier-------\n",
      "Accuracy: 98.0%\n",
      "Precission: 98.0%\n",
      "Recall: 98.0%\n",
      "F1_score: 98.0%\n",
      "-------GradientBoostingClassifier-------\n",
      "Accuracy: 95.6%\n",
      "Precission: 95.8%\n",
      "Recall: 95.6%\n",
      "F1_score: 95.6%\n",
      "-------AdaBoostClassifier-------\n",
      "Accuracy: 95.7%\n",
      "Precission: 95.7%\n",
      "Recall: 95.7%\n",
      "F1_score: 95.7%\n",
      "-------RandomForestClassifier-------\n",
      "Accuracy: 98.3%\n",
      "Precission: 98.3%\n",
      "Recall: 98.3%\n",
      "F1_score: 98.3%\n",
      "-------SVC-------\n",
      "Accuracy: 97.9%\n",
      "Precission: 97.9%\n",
      "Recall: 97.9%\n",
      "F1_score: 97.9%\n"
     ]
    }
   ],
   "source": [
    "for name, model in models.items():\n",
    "    y_pred = model.predict(test)\n",
    "    print(f\"-------{name}-------\")\n",
    "    print (f\"Accuracy: {accuracy_score(y_test,y_pred)*100:.3}%\")\n",
    "    print(f\"Precission: {precision_score(y_test,y_pred, average = 'weighted')*100:.3}%\")\n",
    "    print(f\"Recall: {recall_score(y_test,y_pred, average = 'weighted')*100:.3}%\")\n",
    "    print(f\"F1_score: {f1_score(y_test,y_pred, average = 'weighted')*100:.3}%\")"
   ]
  },
  {
   "cell_type": "markdown",
   "metadata": {},
   "source": [
    "#### K-fold cross validation"
   ]
  },
  {
   "cell_type": "code",
   "execution_count": 11,
   "metadata": {},
   "outputs": [],
   "source": [
    "X = tfidf.transform(amz_rev['reviewText'].values.astype('U'))"
   ]
  },
  {
   "cell_type": "code",
   "execution_count": 12,
   "metadata": {},
   "outputs": [
    {
     "name": "stdout",
     "output_type": "stream",
     "text": [
      "PassiveAggressiveClassifier\n",
      "K-fold cross validation Accuracy: 98.04%\n",
      "GradientBoostingClassifier\n",
      "K-fold cross validation Accuracy: 95.56%\n",
      "AdaBoostClassifier\n",
      "K-fold cross validation Accuracy: 95.82%\n",
      "RandomForestClassifier\n",
      "K-fold cross validation Accuracy: 98.16%\n",
      "SVC\n",
      "K-fold cross validation Accuracy: 98.03%\n"
     ]
    }
   ],
   "source": [
    "for name, model in models.items():\n",
    "    print(f\"{name}\")\n",
    "    validation = cross_val_score(model, X, amz_rev['low_quality'].values, cv=5)\n",
    "    print(f'K-fold cross validation Accuracy: {round(validation.mean() * 100,2)}%')"
   ]
  },
  {
   "cell_type": "markdown",
   "metadata": {},
   "source": [
    "#### I decided to go with the PassiveAggressiveClassifier"
   ]
  },
  {
   "cell_type": "code",
   "execution_count": 29,
   "metadata": {},
   "outputs": [
    {
     "data": {
      "text/plain": [
       "PassiveAggressiveClassifier()"
      ]
     },
     "execution_count": 29,
     "metadata": {},
     "output_type": "execute_result"
    }
   ],
   "source": [
    "pac = PassiveAggressiveClassifier()\n",
    "pac.fit(X, amz_rev['low_quality'].values)"
   ]
  }
 ],
 "metadata": {
  "kernelspec": {
   "display_name": "Python 3",
   "language": "python",
   "name": "python3"
  },
  "language_info": {
   "codemirror_mode": {
    "name": "ipython",
    "version": 3
   },
   "file_extension": ".py",
   "mimetype": "text/x-python",
   "name": "python",
   "nbconvert_exporter": "python",
   "pygments_lexer": "ipython3",
   "version": "3.8.5"
  }
 },
 "nbformat": 4,
 "nbformat_minor": 4
}
