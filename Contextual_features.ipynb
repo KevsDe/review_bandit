{
 "cells": [
  {
   "cell_type": "code",
   "execution_count": 1,
   "metadata": {},
   "outputs": [],
   "source": [
    "import pandas as pd"
   ]
  },
  {
   "cell_type": "code",
   "execution_count": 2,
   "metadata": {},
   "outputs": [],
   "source": [
    "amz_rev = pd.read_csv('output/amz_rev_final.csv')"
   ]
  },
  {
   "cell_type": "code",
   "execution_count": 3,
   "metadata": {},
   "outputs": [
    {
     "data": {
      "text/html": [
       "<div>\n",
       "<style scoped>\n",
       "    .dataframe tbody tr th:only-of-type {\n",
       "        vertical-align: middle;\n",
       "    }\n",
       "\n",
       "    .dataframe tbody tr th {\n",
       "        vertical-align: top;\n",
       "    }\n",
       "\n",
       "    .dataframe thead th {\n",
       "        text-align: right;\n",
       "    }\n",
       "</style>\n",
       "<table border=\"1\" class=\"dataframe\">\n",
       "  <thead>\n",
       "    <tr style=\"text-align: right;\">\n",
       "      <th></th>\n",
       "      <th>Unnamed: 0</th>\n",
       "      <th>reviewText</th>\n",
       "      <th>polarity</th>\n",
       "      <th>subjectivity</th>\n",
       "      <th>num_words</th>\n",
       "      <th>flesch_score</th>\n",
       "      <th>verbs_ratio</th>\n",
       "      <th>nouns_ratio</th>\n",
       "      <th>prp_ratio</th>\n",
       "      <th>low_quality</th>\n",
       "      <th>grammar</th>\n",
       "    </tr>\n",
       "  </thead>\n",
       "  <tbody>\n",
       "    <tr>\n",
       "      <th>0</th>\n",
       "      <td>0</td>\n",
       "      <td>Excellent</td>\n",
       "      <td>1.00</td>\n",
       "      <td>1.00</td>\n",
       "      <td>1</td>\n",
       "      <td>-47.99</td>\n",
       "      <td>0.00</td>\n",
       "      <td>1.00</td>\n",
       "      <td>0.00</td>\n",
       "      <td>1</td>\n",
       "      <td>0</td>\n",
       "    </tr>\n",
       "    <tr>\n",
       "      <th>1</th>\n",
       "      <td>1</td>\n",
       "      <td>Great</td>\n",
       "      <td>0.80</td>\n",
       "      <td>0.75</td>\n",
       "      <td>1</td>\n",
       "      <td>121.22</td>\n",
       "      <td>0.00</td>\n",
       "      <td>1.00</td>\n",
       "      <td>0.00</td>\n",
       "      <td>1</td>\n",
       "      <td>0</td>\n",
       "    </tr>\n",
       "    <tr>\n",
       "      <th>2</th>\n",
       "      <td>2</td>\n",
       "      <td>exactly what i wanted</td>\n",
       "      <td>0.25</td>\n",
       "      <td>0.25</td>\n",
       "      <td>4</td>\n",
       "      <td>50.50</td>\n",
       "      <td>0.25</td>\n",
       "      <td>0.25</td>\n",
       "      <td>0.00</td>\n",
       "      <td>1</td>\n",
       "      <td>2</td>\n",
       "    </tr>\n",
       "    <tr>\n",
       "      <th>3</th>\n",
       "      <td>3</td>\n",
       "      <td>very good</td>\n",
       "      <td>0.91</td>\n",
       "      <td>0.78</td>\n",
       "      <td>2</td>\n",
       "      <td>120.21</td>\n",
       "      <td>0.00</td>\n",
       "      <td>0.00</td>\n",
       "      <td>0.00</td>\n",
       "      <td>1</td>\n",
       "      <td>1</td>\n",
       "    </tr>\n",
       "    <tr>\n",
       "      <th>4</th>\n",
       "      <td>4</td>\n",
       "      <td>thank you very much</td>\n",
       "      <td>0.26</td>\n",
       "      <td>0.26</td>\n",
       "      <td>4</td>\n",
       "      <td>118.18</td>\n",
       "      <td>0.00</td>\n",
       "      <td>0.25</td>\n",
       "      <td>0.25</td>\n",
       "      <td>1</td>\n",
       "      <td>1</td>\n",
       "    </tr>\n",
       "  </tbody>\n",
       "</table>\n",
       "</div>"
      ],
      "text/plain": [
       "   Unnamed: 0             reviewText  polarity  subjectivity  num_words  \\\n",
       "0           0              Excellent      1.00          1.00          1   \n",
       "1           1                  Great      0.80          0.75          1   \n",
       "2           2  exactly what i wanted      0.25          0.25          4   \n",
       "3           3              very good      0.91          0.78          2   \n",
       "4           4    thank you very much      0.26          0.26          4   \n",
       "\n",
       "   flesch_score  verbs_ratio  nouns_ratio  prp_ratio  low_quality  grammar  \n",
       "0        -47.99         0.00         1.00       0.00            1        0  \n",
       "1        121.22         0.00         1.00       0.00            1        0  \n",
       "2         50.50         0.25         0.25       0.00            1        2  \n",
       "3        120.21         0.00         0.00       0.00            1        1  \n",
       "4        118.18         0.00         0.25       0.25            1        1  "
      ]
     },
     "execution_count": 3,
     "metadata": {},
     "output_type": "execute_result"
    }
   ],
   "source": [
    "amz_rev.head()"
   ]
  },
  {
   "cell_type": "code",
   "execution_count": 4,
   "metadata": {},
   "outputs": [
    {
     "data": {
      "text/plain": [
       "0    24590\n",
       "1    20358\n",
       "Name: low_quality, dtype: int64"
      ]
     },
     "execution_count": 4,
     "metadata": {},
     "output_type": "execute_result"
    }
   ],
   "source": [
    "amz_rev.low_quality.value_counts()"
   ]
  },
  {
   "cell_type": "code",
   "execution_count": 5,
   "metadata": {},
   "outputs": [
    {
     "name": "stdout",
     "output_type": "stream",
     "text": [
      "The average polarity in low quality reviews is: 0.49\n",
      "The average polarity in good quality reviews is: 0.30\n"
     ]
    }
   ],
   "source": [
    "print(f\"The average polarity in low quality reviews is: {amz_rev[amz_rev['low_quality']==1].polarity.mean():.2f}\")\n",
    "print(f\"The average polarity in good quality reviews is: {amz_rev[amz_rev['low_quality']==0].polarity.mean():.2f}\")\n"
   ]
  },
  {
   "cell_type": "code",
   "execution_count": 6,
   "metadata": {},
   "outputs": [
    {
     "name": "stdout",
     "output_type": "stream",
     "text": [
      "The average subjectivity in low quality reviews is: 0.53\n",
      "The average subjectivity in good quality reviews is: 0.57\n"
     ]
    }
   ],
   "source": [
    "print(f\"The average subjectivity in low quality reviews is: {amz_rev[amz_rev['low_quality']==1].subjectivity.mean():.2f}\")\n",
    "print(f\"The average subjectivity in good quality reviews is: {amz_rev[amz_rev['low_quality']==0].subjectivity.mean():.2f}\")\n"
   ]
  },
  {
   "cell_type": "code",
   "execution_count": 7,
   "metadata": {},
   "outputs": [
    {
     "name": "stdout",
     "output_type": "stream",
     "text": [
      "The table is an example of values. While the maximum score is 121.22, there is no limit on how low the score can be. A negative score is valid.\n"
     ]
    },
    {
     "data": {
      "text/html": [
       "<div>\n",
       "<style scoped>\n",
       "    .dataframe tbody tr th:only-of-type {\n",
       "        vertical-align: middle;\n",
       "    }\n",
       "\n",
       "    .dataframe tbody tr th {\n",
       "        vertical-align: top;\n",
       "    }\n",
       "\n",
       "    .dataframe thead th {\n",
       "        text-align: right;\n",
       "    }\n",
       "</style>\n",
       "<table border=\"1\" class=\"dataframe\">\n",
       "  <thead>\n",
       "    <tr style=\"text-align: right;\">\n",
       "      <th></th>\n",
       "      <th>Score</th>\n",
       "      <th>Difficulty</th>\n",
       "    </tr>\n",
       "  </thead>\n",
       "  <tbody>\n",
       "    <tr>\n",
       "      <th>0</th>\n",
       "      <td>90-100</td>\n",
       "      <td>Very Easy</td>\n",
       "    </tr>\n",
       "    <tr>\n",
       "      <th>1</th>\n",
       "      <td>80-89</td>\n",
       "      <td>Easy</td>\n",
       "    </tr>\n",
       "    <tr>\n",
       "      <th>2</th>\n",
       "      <td>70-79</td>\n",
       "      <td>Fairly Easy</td>\n",
       "    </tr>\n",
       "    <tr>\n",
       "      <th>3</th>\n",
       "      <td>60-69</td>\n",
       "      <td>Standard</td>\n",
       "    </tr>\n",
       "    <tr>\n",
       "      <th>4</th>\n",
       "      <td>50-59</td>\n",
       "      <td>Fairly Difficult</td>\n",
       "    </tr>\n",
       "    <tr>\n",
       "      <th>5</th>\n",
       "      <td>30-49</td>\n",
       "      <td>Difficult</td>\n",
       "    </tr>\n",
       "    <tr>\n",
       "      <th>6</th>\n",
       "      <td>0-29</td>\n",
       "      <td>Very Confusing</td>\n",
       "    </tr>\n",
       "  </tbody>\n",
       "</table>\n",
       "</div>"
      ],
      "text/plain": [
       "    Score        Difficulty\n",
       "0  90-100         Very Easy\n",
       "1   80-89              Easy\n",
       "2   70-79       Fairly Easy\n",
       "3   60-69          Standard\n",
       "4   50-59  Fairly Difficult\n",
       "5   30-49         Difficult\n",
       "6    0-29    Very Confusing"
      ]
     },
     "metadata": {},
     "output_type": "display_data"
    },
    {
     "name": "stdout",
     "output_type": "stream",
     "text": [
      "The Flesch Reading Ease score average score in low quality reviews is: 92.65\n",
      "The Flesch Reading Ease score average score in good quality reviews is: 67.20\n"
     ]
    }
   ],
   "source": [
    "d = {'Score': ['90-100', '80-89', '70-79', '60-69', '50-59', '30-49', '0-29'], 'Difficulty': ['Very Easy', 'Easy', 'Fairly Easy', 'Standard', 'Fairly Difficult', 'Difficult', 'Very Confusing']}\n",
    "df = pd.DataFrame(data=d)\n",
    "print('The table is an example of values. While the maximum score is 121.22, there is no limit on how low the score can be. A negative score is valid.')\n",
    "display(df)\n",
    "print(f\"The Flesch Reading Ease score average score in low quality reviews is: {amz_rev[amz_rev['low_quality']==1].flesch_score.mean():.2f}\")\n",
    "print(f\"The Flesch Reading Ease score average score in good quality reviews is: {amz_rev[amz_rev['low_quality']==0].flesch_score.mean():.2f}\")"
   ]
  },
  {
   "cell_type": "code",
   "execution_count": 8,
   "metadata": {},
   "outputs": [
    {
     "name": "stdout",
     "output_type": "stream",
     "text": [
      "The average words count in low quality reviews is: 3.50\n",
      "The average words count in good quality reviews is: 73.78\n"
     ]
    }
   ],
   "source": [
    "print(f\"The average words count in low quality reviews is: {amz_rev[amz_rev['low_quality']==1].num_words.mean():.2f}\")\n",
    "print(f\"The average words count in good quality reviews is: {amz_rev[amz_rev['low_quality']==0].num_words.mean():.2f}\")\n"
   ]
  },
  {
   "cell_type": "code",
   "execution_count": 9,
   "metadata": {},
   "outputs": [
    {
     "name": "stdout",
     "output_type": "stream",
     "text": [
      "The average verbs ratio in low quality reviews is: 0.08\n",
      "The average verbs ratio in good quality reviews is: 0.14\n"
     ]
    }
   ],
   "source": [
    "print(f\"The average verbs ratio in low quality reviews is: {amz_rev[amz_rev['low_quality']==1].verbs_ratio.mean():.2f}\")\n",
    "print(f\"The average verbs ratio in good quality reviews is: {amz_rev[amz_rev['low_quality']==0].verbs_ratio.mean():.2f}\")"
   ]
  },
  {
   "cell_type": "code",
   "execution_count": 10,
   "metadata": {},
   "outputs": [
    {
     "name": "stdout",
     "output_type": "stream",
     "text": [
      "The average nouns ratio in low quality reviews is: 0.41\n",
      "The average nouns ratio in good quality reviews is: 0.25\n"
     ]
    }
   ],
   "source": [
    "print(f\"The average nouns ratio in low quality reviews is: {amz_rev[amz_rev['low_quality']==1].nouns_ratio.mean():.2f}\")\n",
    "print(f\"The average nouns ratio in good quality reviews is: {amz_rev[amz_rev['low_quality']==0].nouns_ratio.mean():.2f}\")"
   ]
  },
  {
   "cell_type": "code",
   "execution_count": 11,
   "metadata": {},
   "outputs": [
    {
     "name": "stdout",
     "output_type": "stream",
     "text": [
      "The average personal pronouns ratio in low quality reviews is: 0.07\n",
      "The average personal pronouns ratio in good quality reviews is: 0.08\n"
     ]
    }
   ],
   "source": [
    "print(f\"The average personal pronouns ratio in low quality reviews is: {amz_rev[amz_rev['low_quality']==1].prp_ratio.mean():.2f}\")\n",
    "print(f\"The average personal pronouns ratio in good quality reviews is: {amz_rev[amz_rev['low_quality']==0].prp_ratio.mean():.2f}\")"
   ]
  },
  {
   "cell_type": "code",
   "execution_count": 12,
   "metadata": {},
   "outputs": [
    {
     "name": "stdout",
     "output_type": "stream",
     "text": [
      "The average grammatical mistakes review in low quality reviews is: 0.41\n",
      "The average grammatical mistakes review in good quality reviews is: 2.59\n"
     ]
    }
   ],
   "source": [
    "print(f\"The average grammatical mistakes review in low quality reviews is: {amz_rev[amz_rev['low_quality']==1].grammar.mean():.2f}\")\n",
    "print(f\"The average grammatical mistakes review in good quality reviews is: {amz_rev[amz_rev['low_quality']==0].grammar.mean():.2f}\")"
   ]
  },
  {
   "cell_type": "markdown",
   "metadata": {},
   "source": [
    "## Conclusion:\n",
    "<p>For this analysis we are looking to the contextual features as in the Amazon reviews.</p>\n",
    "* Review length.\n",
    "* Noun ratio.\n",
    "* Verb ratio.\n",
    "* Subjectivity.\n",
    "* Grammar.\n",
    "* Sentiment orientation (polarity).\n",
    "* Readability (Flesch reading ease score).\n",
    "\n",
    "<p>The sample has been pre-processed on behavioural features, so I can proceed to evaluate the contextual features, almost all of the variables are pretty similar, as exceptions, the readability for low-quality reviews is \"very easy\" and for the good quality reviews is \"standard\", there is a big gap in the average number of words that makes sense because the fake reviews don´t provide relevant information, and lots of them are simple copy-paste, on the other hand, the grammatical mistakes probably are correlated with longer reviews.  There are other parameters that are not as expected for example the verbs and nouns ratio, but since lots of fake reviews are guided, that parameters don´t seem relevant, indeed are very similar,  subjectivity is kind of similar and the polarity as expected is higher in low-quality reviews, as most of them are 5 stars reviews suggesting that the product is \"awesome\", \"great\", \"amazing\", etc. Seems that our dataset is well balanced and has certain reliability. </p>"
   ]
  }
 ],
 "metadata": {
  "kernelspec": {
   "display_name": "Python 3",
   "language": "python",
   "name": "python3"
  },
  "language_info": {
   "codemirror_mode": {
    "name": "ipython",
    "version": 3
   },
   "file_extension": ".py",
   "mimetype": "text/x-python",
   "name": "python",
   "nbconvert_exporter": "python",
   "pygments_lexer": "ipython3",
   "version": "3.8.5"
  }
 },
 "nbformat": 4,
 "nbformat_minor": 4
}
